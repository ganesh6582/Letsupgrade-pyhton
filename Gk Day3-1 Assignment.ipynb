{
 "cells": [
  {
   "cell_type": "code",
   "execution_count": 8,
   "metadata": {},
   "outputs": [
    {
     "name": "stdout",
     "output_type": "stream",
     "text": [
      "Please Enter Your Altittude5500\n",
      "Turn Around And Try Again\n"
     ]
    }
   ],
   "source": [
    "Altittude = int(input(\"Please Enter Your Altittude\"))\n",
    "if Altittude <= 1000:\n",
    "    print(\"Safe To Land\")\n",
    "elif Altittude > 1000 and Altittude <5000:\n",
    "    print(\"Bring Down To 1000 Feet\")\n",
    "elif Altittude >5000:\n",
    "    print(\"Turn Around And Try Again\")\n"
   ]
  },
  {
   "cell_type": "code",
   "execution_count": null,
   "metadata": {},
   "outputs": [],
   "source": []
  }
 ],
 "metadata": {
  "kernelspec": {
   "display_name": "Python 3",
   "language": "python",
   "name": "python3"
  },
  "language_info": {
   "codemirror_mode": {
    "name": "ipython",
    "version": 3
   },
   "file_extension": ".py",
   "mimetype": "text/x-python",
   "name": "python",
   "nbconvert_exporter": "python",
   "pygments_lexer": "ipython3",
   "version": "3.7.6"
  }
 },
 "nbformat": 4,
 "nbformat_minor": 4
}
